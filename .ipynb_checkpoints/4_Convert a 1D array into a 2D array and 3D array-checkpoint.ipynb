{
 "cells": [
  {
   "cell_type": "markdown",
   "id": "9be79534",
   "metadata": {},
   "source": [
    "## convert a 1D array into a 2D array and 3D array"
   ]
  },
  {
   "cell_type": "code",
   "execution_count": 1,
   "id": "c3c3d600",
   "metadata": {},
   "outputs": [],
   "source": [
    "import numpy as np"
   ]
  },
  {
   "cell_type": "code",
   "execution_count": 10,
   "id": "cd53f2aa",
   "metadata": {},
   "outputs": [
    {
     "data": {
      "text/plain": [
       "(2, 9)"
      ]
     },
     "execution_count": 10,
     "metadata": {},
     "output_type": "execute_result"
    }
   ],
   "source": [
    "a = np.array([[1,2,3,4,5,6,7,8,9], [1,2,3,4,5,6,7,8,9]])\n",
    "a.shape\n"
   ]
  },
  {
   "cell_type": "code",
   "execution_count": 9,
   "id": "50066479",
   "metadata": {},
   "outputs": [
    {
     "data": {
      "text/plain": [
       "(2, 1, 9)"
      ]
     },
     "execution_count": 9,
     "metadata": {},
     "output_type": "execute_result"
    }
   ],
   "source": [
    "a2 = a[:, np.newaxis]\n",
    "a2.shape"
   ]
  },
  {
   "cell_type": "markdown",
   "id": "9c1222d7",
   "metadata": {},
   "source": [
    "## 1D to 2D\n"
   ]
  },
  {
   "cell_type": "code",
   "execution_count": null,
   "id": "bafa4fbc",
   "metadata": {},
   "outputs": [],
   "source": [
    "arr =  np.arange(16)\n",
    "arr.reshape(2,8)"
   ]
  },
  {
   "cell_type": "markdown",
   "id": "4f87d0fb",
   "metadata": {},
   "source": [
    "## 1D to 3D\n"
   ]
  },
  {
   "cell_type": "code",
   "execution_count": 32,
   "id": "1ffffae8",
   "metadata": {},
   "outputs": [
    {
     "data": {
      "text/plain": [
       "array([[[ 0,  1],\n",
       "        [ 2,  3]],\n",
       "\n",
       "       [[ 4,  5],\n",
       "        [ 6,  7]],\n",
       "\n",
       "       [[ 8,  9],\n",
       "        [10, 11]],\n",
       "\n",
       "       [[12, 13],\n",
       "        [14, 15]]])"
      ]
     },
     "execution_count": 32,
     "metadata": {},
     "output_type": "execute_result"
    }
   ],
   "source": [
    "arr =  np.arange(16)\n",
    "arr.reshape(4,2,2)"
   ]
  },
  {
   "cell_type": "code",
   "execution_count": null,
   "id": "9ff44d95",
   "metadata": {},
   "outputs": [],
   "source": []
  }
 ],
 "metadata": {
  "kernelspec": {
   "display_name": "Python 3 (ipykernel)",
   "language": "python",
   "name": "python3"
  },
  "language_info": {
   "codemirror_mode": {
    "name": "ipython",
    "version": 3
   },
   "file_extension": ".py",
   "mimetype": "text/x-python",
   "name": "python",
   "nbconvert_exporter": "python",
   "pygments_lexer": "ipython3",
   "version": "3.9.13"
  }
 },
 "nbformat": 4,
 "nbformat_minor": 5
}
